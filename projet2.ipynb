{
 "cells": [
  {
   "cell_type": "markdown",
   "metadata": {},
   "source": [
    "##### <center> MINISTERE DE L’ENSEIGNEMENT SUPERIEUR  ET DE LA RECHERCHE SCIENTIFIQUE <br/> UNIVERSITE DE SOUSSE </center>\n",
    "\n",
    "### <center>Institut Supérieur d’Informatique et de Technique de Communication </center>           <img src=\"isitcom.png\"> \n",
    "### <center>المعهد العالي للإعلامية و تقنيات الاتصال بحمام سوسة</center>\n",
    "\n",
    "## <center> Algorithme Avancée </center>\n",
    "\n",
    "# <center> <span style=\"color:blue\"> Mini projet </span></center>\n",
    "<hr>\n",
    "\n",
    "###  <center> Réalisé par : <br>    Ramla Khelifi 2DNI1 <center> <hr>\n",
    "\n",
    "#### <center> Année Universitaire  2020 -2021 <center>\n",
    "<hr>"
   ]
  },
  {
   "cell_type": "markdown",
   "metadata": {},
   "source": [
    "# <p style=\"color:#1E90FF\" padding=\"5\">Tri Insertion  </p > "
   ]
  },
  {
   "cell_type": "markdown",
   "metadata": {},
   "source": [
    "### <p style=\"color:#4682B4\">code Python</p>\n"
   ]
  },
  {
   "cell_type": "code",
   "execution_count": 78,
   "metadata": {},
   "outputs": [],
   "source": [
    "def tri_insertion(liste):\n",
    "    L = list(liste) \n",
    "    N = len(L)\n",
    "    for n in range(1,N):\n",
    "        cle = L[n]\n",
    "        j = n-1\n",
    "        while j>=0 and L[j] > cle:\n",
    "            L[j+1] = L[j] \n",
    "            j = j-1\n",
    "        L[j+1] = cle\n",
    "    return L"
   ]
  },
  {
   "cell_type": "markdown",
   "metadata": {},
   "source": [
    "### <p style=\"color:#4682B4\">Affichage</p>"
   ]
  },
  {
   "cell_type": "code",
   "execution_count": 79,
   "metadata": {},
   "outputs": [
    {
     "name": "stdout",
     "output_type": "stream",
     "text": [
      "tableau non  trié\n",
      "[11, 14, 9, 33, 20, 16, 13, 19]\n",
      "tableau trié\n"
     ]
    },
    {
     "data": {
      "text/plain": [
       "[9, 11, 13, 14, 16, 19, 20, 33]"
      ]
     },
     "execution_count": 79,
     "metadata": {},
     "output_type": "execute_result"
    }
   ],
   "source": [
    "v=[11, 14, 9, 33, 20, 16, 13, 19]\n",
    "print('tableau non  trié')\n",
    "print(v)\n",
    "\n",
    "print (\"tableau trié\")\n",
    "tri_insertion(v)\n"
   ]
  },
  {
   "cell_type": "markdown",
   "metadata": {},
   "source": [
    "### <p style=\"color:#4682B4\">Affichage Courbe</p>"
   ]
  },
  {
   "cell_type": "code",
   "execution_count": 80,
   "metadata": {},
   "outputs": [
    {
     "data": {
      "image/png": "[encoded data removed]",
      "text/plain": [
       "<Figure size 432x288 with 1 Axes>"
      ]
     },
     "metadata": {
      "needs_background": "light"
     },
     "output_type": "display_data"
    }
   ],
   "source": [
    "import matplotlib.pyplot as plt\n",
    "numb=[ 20000, 25000 , 30000, 35000 , 40000, 45000, 50000, 55000, 60000, 65000 ]\n",
    "Temps=[20.802297830581665,34.360204458236694,48.94453144073486,70.15890860557556,224.16278910636902,308.7876787185669,395.79209327697754,429.5122892856598,584.4409351348877,676.1412074565887]\n",
    "plt.figure()\n",
    "plt.plot(numb,Temps,\"blue\")\n",
    "plt.title(\"Tri Insertion\")\n",
    "plt.xlabel(\"N : Nombre des entiers dans le tableau\")\n",
    "plt.ylabel(\"Temps CPU en seconde \")\n",
    "plt.grid()\n",
    "\n",
    "\n",
    "plt.show()"
   ]
  },
  {
   "cell_type": "markdown",
   "metadata": {},
   "source": [
    "# <p style=\"color:#1E90FF\">Tri Rapide  </p > "
   ]
  },
  {
   "cell_type": "markdown",
   "metadata": {},
   "source": [
    "### <p style=\"color:#4682B4\">code Python</p>\n"
   ]
  },
  {
   "cell_type": "code",
   "execution_count": 81,
   "metadata": {},
   "outputs": [],
   "source": [
    "def compare(a, b):\n",
    "    if a < b:\n",
    "        return -1\n",
    "    elif a > b:\n",
    "        return 1\n",
    "    else:\n",
    "        return 0\n",
    "def partition(x, l, comp=compare):\n",
    "    if l == []:\n",
    "        return ([], [])\n",
    "    else:\n",
    "        l1, l2 = partition(x, l[1:], comp=comp)\n",
    "        cmp = comp(l[0], x)\n",
    "        if cmp < 1:\n",
    "            return ([l[0]] + l1, l2)\n",
    "        else:\n",
    "            return (l1, [l[0]] + l2)\n",
    "def tri_rapide(l, comp=compare):\n",
    "    n = len(l)\n",
    "    if n <= 1:\n",
    "        return l.copy()\n",
    "    else:\n",
    "        l1, l2 = partition(l[0], l[1:], comp = comp)\n",
    "        l1s = tri_rapide(l1, comp=comp)\n",
    "        l2s = tri_rapide(l2, comp=comp)\n",
    "        return l1s + [l[0]] + l2s"
   ]
  },
  {
   "cell_type": "markdown",
   "metadata": {},
   "source": [
    "### <p style=\"color:#4682B4\">affichage</p>\n"
   ]
  },
  {
   "cell_type": "code",
   "execution_count": 82,
   "metadata": {},
   "outputs": [
    {
     "name": "stdout",
     "output_type": "stream",
     "text": [
      "tableau non  trié\n",
      "[12, 42, 75, 31, 24, 62]\n",
      "tableau trié\n"
     ]
    },
    {
     "data": {
      "text/plain": [
       "[12, 24, 31, 42, 62, 75]"
      ]
     },
     "execution_count": 82,
     "metadata": {},
     "output_type": "execute_result"
    }
   ],
   "source": [
    "v=[12,42,75,31,24,62]\n",
    "print('tableau non  trié')\n",
    "print(v)\n",
    "\n",
    "print (\"tableau trié\")\n",
    "tri_rapide(v)\n"
   ]
  },
  {
   "cell_type": "markdown",
   "metadata": {},
   "source": [
    "## <p style=\"color:#4682B4\">Affichage Courbe</p>"
   ]
  },
  {
   "cell_type": "code",
   "execution_count": 97,
   "metadata": {},
   "outputs": [
    {
     "data": {
      "image/png": "[encoded data removed]",
      "text/plain": [
       "<Figure size 432x288 with 1 Axes>"
      ]
     },
     "metadata": {
      "needs_background": "light"
     },
     "output_type": "display_data"
    }
   ],
   "source": [
    "numb=[ 20000, 25000 , 30000, 35000 , 40000, 45000, 50000, 55000, 60000, 65000, 70000, 75000, 80000, 85000, 90000, 95000, 100000 ]\n",
    "tmp_r=[0.2208266258239746,0.3612487316131592,0.513787031173706,0.657829761505127,0.7207798957824707,0.857034683227539,0.9759163856506348,1.3613693714141846,1.4292032718658447,1.6352789402008057,1.7499475479125977,2.001999616622925,2.3544580936431885,2.431640863418579,2.847541570663452,3.234670877456665,3.5403823852539062 ]\n",
    "plt.figure()\n",
    "plt.plot(numb,tmp_f,\"red\")\n",
    "plt.title(\"Tri Rapide\")\n",
    "plt.xlabel(\"N : Nombre des entiers dans le tableau\")\n",
    "plt.ylabel(\"Temps CPU en seconde \")\n",
    "plt.grid()\n",
    "\n",
    "\n",
    "plt.show()"
   ]
  },
  {
   "cell_type": "markdown",
   "metadata": {},
   "source": [
    "# <p style=\"color:#1E90FF\">Tri Selection  </p > "
   ]
  },
  {
   "cell_type": "markdown",
   "metadata": {},
   "source": [
    "## <p style=\"color:#4682B4\">code Python</p>"
   ]
  },
  {
   "cell_type": "code",
   "execution_count": 84,
   "metadata": {
    "scrolled": true
   },
   "outputs": [],
   "source": [
    "\n",
    "def Tri_selection(T) :\n",
    "    for i in range(0,len(T)-1) :\n",
    "        Min=T[i]\n",
    "        imin=i\n",
    "        for j in range(i+1,len(T)):\n",
    "            if T[j] < Min:\n",
    "                Min=T[j]\n",
    "                imin=j\n",
    "        tmp=T[i]\n",
    "        T[i]=T[imin]\n",
    "        T[imin]=tmp\n",
    "    return T\n"
   ]
  },
  {
   "cell_type": "markdown",
   "metadata": {},
   "source": [
    "## <p style=\"color:#4682B4\">Affichage</p>\n"
   ]
  },
  {
   "cell_type": "code",
   "execution_count": 85,
   "metadata": {},
   "outputs": [
    {
     "name": "stdout",
     "output_type": "stream",
     "text": [
      "tableau non  trié\n",
      "[12, 42, 75, 31, 24, 62]\n",
      "tableau trié\n"
     ]
    },
    {
     "data": {
      "text/plain": [
       "[12, 24, 31, 42, 62, 75]"
      ]
     },
     "execution_count": 85,
     "metadata": {},
     "output_type": "execute_result"
    }
   ],
   "source": [
    "v=[12,42,75,31,24,62]\n",
    "print('tableau non  trié')\n",
    "print(v)\n",
    "\n",
    "print (\"tableau trié\")\n",
    "Tri_selection(v)"
   ]
  },
  {
   "cell_type": "markdown",
   "metadata": {},
   "source": [
    "## <p style=\"color:#4682B4\">Affichage Courbe</p>"
   ]
  },
  {
   "cell_type": "code",
   "execution_count": 86,
   "metadata": {},
   "outputs": [
    {
     "data": {
      "image/png": "[encoded data removed]",
      "text/plain": [
       "<Figure size 432x288 with 1 Axes>"
      ]
     },
     "metadata": {
      "needs_background": "light"
     },
     "output_type": "display_data"
    }
   ],
   "source": [
    "import matplotlib.pyplot as plt\n",
    "N=[ 20000, 25000 , 30000, 35000 , 40000, 45000, 50000, 55000, 60000, 65000, 70000, 75000, 80000, 85000, 90000, 95000, 100000 ]\n",
    "Temps=[14.076887369155884,25.18699359893799,25.719995975494385,39.88449954986572,48.17768478393555,65.64378762245178,79.93000483512878,89.81601548194885,102.62879848480225,148.52647471427917,184.44912314414978,214.1737997531891,217.82634210586548,240.33271408081055,269.7155840396881,293.40186071395874,325.4835453033447]\n",
    "\n",
    "plt.figure()\n",
    "plt.plot(N,Temps,\"gray\")\n",
    "plt.title(\"Tri par Selection\")\n",
    "plt.xlabel(\"N : Nombre des entiers dans le tableau\")\n",
    "plt.ylabel(\"Temps CPU en seconde \")\n",
    "plt.grid()\n",
    "\n",
    "\n",
    "plt.show()"
   ]
  },
  {
   "cell_type": "markdown",
   "metadata": {},
   "source": [
    "# <p style=\"color:#1E90FF\">Tri Fusion  </p > "
   ]
  },
  {
   "cell_type": "markdown",
   "metadata": {},
   "source": [
    "## <p style=\"color:#4682B4\">Code Python</p>\n"
   ]
  },
  {
   "cell_type": "code",
   "execution_count": 87,
   "metadata": {},
   "outputs": [],
   "source": [
    "def compare(a, b):\n",
    "    if a < b:\n",
    "        return -1\n",
    "    elif a > b:\n",
    "        return 1\n",
    "    else:\n",
    "        return 0\n",
    "def separe(l):\n",
    "    n = len(l)\n",
    "    if n == 0:\n",
    "        return ([], [])\n",
    "    elif n == 1:\n",
    "        return ([l[0]], [])\n",
    "    else:\n",
    "        l1, l2 = split(l[2:])\n",
    "        return ([l[0]] + l1, [l[1]] + l2)\n",
    "def fusion(l1, l2, comp=compare):\n",
    "   \n",
    "    if l1 == []:\n",
    "        return l2.copy()\n",
    "    elif l2 == []:\n",
    "        return l1.copy()\n",
    "    else:\n",
    "        cmp = comp(l1[0], l2[0])\n",
    "        if cmp <= 0:\n",
    "            return [l1[0]] + fusion(l1[1:], l2, comp=comp)\n",
    "        else:\n",
    "            return [l2[0]] + fusion(l1, l2[1:], comp=comp)\n",
    "def tri_fusion(l, comp=compare):\n",
    "    n = len(l)\n",
    "    if n <= 1:\n",
    "        return l.copy()\n",
    "    else:\n",
    "        l1, l2 = split(l)\n",
    "        l1s = tri_fusion(l1, comp=comp)\n",
    "        l2s = tri_fusion(l2, comp=comp)\n",
    "        return merge(l1s, l2s, comp=comp)"
   ]
  },
  {
   "cell_type": "markdown",
   "metadata": {},
   "source": [
    "## <p style=\"color:#4682B4\">Affichage</p>\n"
   ]
  },
  {
   "cell_type": "code",
   "execution_count": 88,
   "metadata": {},
   "outputs": [
    {
     "name": "stdout",
     "output_type": "stream",
     "text": [
      "tableau non  trié\n",
      "[11, 14, 9, 33, 20, 16, 13, 19]\n",
      "tableau trié\n"
     ]
    },
    {
     "data": {
      "text/plain": [
       "[9, 11, 13, 14, 16, 19, 20, 33]"
      ]
     },
     "execution_count": 88,
     "metadata": {},
     "output_type": "execute_result"
    }
   ],
   "source": [
    "v=[11, 14, 9, 33, 20, 16, 13, 19]\n",
    "print('tableau non  trié')\n",
    "print(v)\n",
    "\n",
    "print (\"tableau trié\")\n",
    "tri_fusion(v)\n"
   ]
  },
  {
   "cell_type": "markdown",
   "metadata": {},
   "source": [
    "## <p style=\"color:#4682B4\">Affichage Courbe</p>"
   ]
  },
  {
   "cell_type": "code",
   "execution_count": 96,
   "metadata": {},
   "outputs": [
    {
     "data": {
      "image/png": "[encoded data removed]",
      "text/plain": [
       "<Figure size 432x288 with 1 Axes>"
      ]
     },
     "metadata": {
      "needs_background": "light"
     },
     "output_type": "display_data"
    }
   ],
   "source": [
    "numb=[ 20000, 25000 , 30000, 35000 , 40000, 45000, 50000, 55000, 60000, 65000, 70000, 75000, 80000, 85000, 90000, 95000, 100000 ]\n",
    "tmp=[0.18595504760742188,0.22810697555541992,0.38017868995666504,0.5500161647796631,0.5504062175750732,0.6008148193359375,0.6618392467498779,0.8433501720428467,0.9727940559387207,1.1997380256652832,1.0951001644134521,1.1044831275939941,1.1796090602874756,1.268397569656372,1.7257637977600098,1.5254132747650146,1.547114610671997 ]\n",
    "plt.figure()\n",
    "plt.plot(numb,tmp,\"green\")\n",
    "plt.title(\"Tri fusion\")\n",
    "plt.xlabel(\"N : Nombre des entiers dans le tableau\")\n",
    "plt.ylabel(\"Temps CPU en seconde \")\n",
    "plt.grid()\n",
    "\n",
    "\n",
    "plt.show()"
   ]
  },
  {
   "cell_type": "markdown",
   "metadata": {},
   "source": [
    "\n",
    "\n",
    "## <p style=\"color:#1E90FF\">Tri à Bulle </p > \n"
   ]
  },
  {
   "cell_type": "markdown",
   "metadata": {},
   "source": [
    "## <p style=\"color:#4682B4\">Code python</p>\n",
    "\n"
   ]
  },
  {
   "cell_type": "code",
   "execution_count": 90,
   "metadata": {},
   "outputs": [],
   "source": [
    "def tri_bulle(arr):\n",
    "    for i in range(len(arr) - 1, 0, -1):\n",
    "        for j in range(i):\n",
    "            if arr[j] > arr[j + 1]:\n",
    "                arr[j + 1], arr[j] = arr[j], arr[j + 1]\n",
    "    return arr"
   ]
  },
  {
   "cell_type": "markdown",
   "metadata": {},
   "source": [
    "## <p style=\"color:#4682B4\">Affichage</p>\n"
   ]
  },
  {
   "cell_type": "code",
   "execution_count": 91,
   "metadata": {},
   "outputs": [
    {
     "name": "stdout",
     "output_type": "stream",
     "text": [
      "tableau non  trié\n",
      "[11, 14, 9, 33, 20, 16, 13, 19]\n",
      "tableau trié\n"
     ]
    },
    {
     "data": {
      "text/plain": [
       "[9, 11, 13, 14, 16, 19, 20, 33]"
      ]
     },
     "execution_count": 91,
     "metadata": {},
     "output_type": "execute_result"
    }
   ],
   "source": [
    "v=[11, 14, 9, 33, 20, 16, 13, 19]\n",
    "print('tableau non  trié')\n",
    "print(v)\n",
    "\n",
    "print (\"tableau trié\")\n",
    "tri_bulle(v)"
   ]
  },
  {
   "cell_type": "markdown",
   "metadata": {},
   "source": [
    "## <p style=\"color:#4682B4\">Affichage Courbe</p>"
   ]
  },
  {
   "cell_type": "code",
   "execution_count": 95,
   "metadata": {},
   "outputs": [
    {
     "data": {
      "image/png": "[encoded data removed]",
      "text/plain": [
       "<Figure size 432x288 with 1 Axes>"
      ]
     },
     "metadata": {
      "needs_background": "light"
     },
     "output_type": "display_data"
    }
   ],
   "source": [
    "import matplotlib.pyplot as plt\n",
    "N=[ 20000, 25000 , 30000, 35000 , 40000, 45000, 50000, 55000, 60000, 65000, 70000, 75000, 80000,85000,90000,95000,100000 ]\n",
    "Temps=[57.38925099372864,90.46417737007141,127.2656877040863,181.02952313423157,220.07546544075012,278.7770411968231,347.1631889343262,421.7574727535248,511.61676716804504,602.6750268936157,703.7881565093994,930.9794528484344,1128.6324870586395,1176.6158094406128,1308.5324218273163,1421.7356131076813,1600.964064359665]\n",
    "\n",
    "plt.figure()\n",
    "plt.plot(N,Temps,\"Pink\")\n",
    "plt.title(\"Tri à Bulle\")\n",
    "plt.xlabel(\"N : Nombre des entiers dans le tableau\")\n",
    "plt.ylabel(\"Temps CPU en seconde \")\n",
    "plt.grid()\n",
    "\n",
    "\n",
    "plt.show()"
   ]
  },
  {
   "cell_type": "markdown",
   "metadata": {},
   "source": [
    "# <p style=\"color:#4682B4\">le code de calculer les mesures du temps </p>\n"
   ]
  },
  {
   "cell_type": "code",
   "execution_count": 93,
   "metadata": {},
   "outputs": [],
   "source": [
    "import random \n",
    "import time\n",
    "\n",
    "T=[]\n",
    "\n",
    "for i in range(40000) :\n",
    "    \n",
    "    T.append(random.randint(1,1000) )\n"
   ]
  },
  {
   "cell_type": "code",
   "execution_count": 94,
   "metadata": {},
   "outputs": [
    {
     "ename": "RecursionError",
     "evalue": "maximum recursion depth exceeded while calling a Python object",
     "output_type": "error",
     "traceback": [
      "\u001b[1;31m---------------------------------------------------------------------------\u001b[0m",
      "\u001b[1;31mRecursionError\u001b[0m                            Traceback (most recent call last)",
      "\u001b[1;32m<ipython-input-94-f1a74dc76f2f>\u001b[0m in \u001b[0;36m<module>\u001b[1;34m\u001b[0m\n\u001b[0;32m      1\u001b[0m \u001b[0mdebut\u001b[0m \u001b[1;33m=\u001b[0m \u001b[0mtime\u001b[0m\u001b[1;33m.\u001b[0m\u001b[0mtime\u001b[0m\u001b[1;33m(\u001b[0m\u001b[1;33m)\u001b[0m\u001b[1;33m\u001b[0m\u001b[1;33m\u001b[0m\u001b[0m\n\u001b[1;32m----> 2\u001b[1;33m \u001b[0mtri_fusion\u001b[0m\u001b[1;33m(\u001b[0m\u001b[0mT\u001b[0m\u001b[1;33m)\u001b[0m\u001b[1;33m\u001b[0m\u001b[1;33m\u001b[0m\u001b[0m\n\u001b[0m\u001b[0;32m      3\u001b[0m \u001b[0mfin\u001b[0m \u001b[1;33m=\u001b[0m \u001b[0mtime\u001b[0m\u001b[1;33m.\u001b[0m\u001b[0mtime\u001b[0m\u001b[1;33m(\u001b[0m\u001b[1;33m)\u001b[0m\u001b[1;33m\u001b[0m\u001b[1;33m\u001b[0m\u001b[0m\n\u001b[0;32m      4\u001b[0m \u001b[0mprint\u001b[0m\u001b[1;33m(\u001b[0m\u001b[0mfin\u001b[0m \u001b[1;33m-\u001b[0m \u001b[0mdebut\u001b[0m\u001b[1;33m)\u001b[0m\u001b[1;33m\u001b[0m\u001b[1;33m\u001b[0m\u001b[0m\n",
      "\u001b[1;32m<ipython-input-87-7086c9a8c24a>\u001b[0m in \u001b[0;36mtri_fusion\u001b[1;34m(l, comp)\u001b[0m\n\u001b[0;32m     32\u001b[0m         \u001b[1;32mreturn\u001b[0m \u001b[0ml\u001b[0m\u001b[1;33m.\u001b[0m\u001b[0mcopy\u001b[0m\u001b[1;33m(\u001b[0m\u001b[1;33m)\u001b[0m\u001b[1;33m\u001b[0m\u001b[1;33m\u001b[0m\u001b[0m\n\u001b[0;32m     33\u001b[0m     \u001b[1;32melse\u001b[0m\u001b[1;33m:\u001b[0m\u001b[1;33m\u001b[0m\u001b[1;33m\u001b[0m\u001b[0m\n\u001b[1;32m---> 34\u001b[1;33m         \u001b[0ml1\u001b[0m\u001b[1;33m,\u001b[0m \u001b[0ml2\u001b[0m \u001b[1;33m=\u001b[0m \u001b[0msplit\u001b[0m\u001b[1;33m(\u001b[0m\u001b[0ml\u001b[0m\u001b[1;33m)\u001b[0m\u001b[1;33m\u001b[0m\u001b[1;33m\u001b[0m\u001b[0m\n\u001b[0m\u001b[0;32m     35\u001b[0m         \u001b[0ml1s\u001b[0m \u001b[1;33m=\u001b[0m \u001b[0mtri_fusion\u001b[0m\u001b[1;33m(\u001b[0m\u001b[0ml1\u001b[0m\u001b[1;33m,\u001b[0m \u001b[0mcomp\u001b[0m\u001b[1;33m=\u001b[0m\u001b[0mcomp\u001b[0m\u001b[1;33m)\u001b[0m\u001b[1;33m\u001b[0m\u001b[1;33m\u001b[0m\u001b[0m\n\u001b[0;32m     36\u001b[0m         \u001b[0ml2s\u001b[0m \u001b[1;33m=\u001b[0m \u001b[0mtri_fusion\u001b[0m\u001b[1;33m(\u001b[0m\u001b[0ml2\u001b[0m\u001b[1;33m,\u001b[0m \u001b[0mcomp\u001b[0m\u001b[1;33m=\u001b[0m\u001b[0mcomp\u001b[0m\u001b[1;33m)\u001b[0m\u001b[1;33m\u001b[0m\u001b[1;33m\u001b[0m\u001b[0m\n",
      "\u001b[1;32m<ipython-input-20-5550aecc26b2>\u001b[0m in \u001b[0;36msplit\u001b[1;34m(l)\u001b[0m\n\u001b[0;32m     15\u001b[0m         \u001b[1;32mreturn\u001b[0m \u001b[1;33m(\u001b[0m\u001b[1;33m[\u001b[0m\u001b[0ml\u001b[0m\u001b[1;33m[\u001b[0m\u001b[1;36m0\u001b[0m\u001b[1;33m]\u001b[0m\u001b[1;33m]\u001b[0m\u001b[1;33m,\u001b[0m \u001b[1;33m[\u001b[0m\u001b[1;33m]\u001b[0m\u001b[1;33m)\u001b[0m\u001b[1;33m\u001b[0m\u001b[1;33m\u001b[0m\u001b[0m\n\u001b[0;32m     16\u001b[0m     \u001b[1;32melse\u001b[0m\u001b[1;33m:\u001b[0m\u001b[1;33m\u001b[0m\u001b[1;33m\u001b[0m\u001b[0m\n\u001b[1;32m---> 17\u001b[1;33m         \u001b[0ml1\u001b[0m\u001b[1;33m,\u001b[0m \u001b[0ml2\u001b[0m \u001b[1;33m=\u001b[0m \u001b[0msplit\u001b[0m\u001b[1;33m(\u001b[0m\u001b[0ml\u001b[0m\u001b[1;33m[\u001b[0m\u001b[1;36m2\u001b[0m\u001b[1;33m:\u001b[0m\u001b[1;33m]\u001b[0m\u001b[1;33m)\u001b[0m\u001b[1;33m\u001b[0m\u001b[1;33m\u001b[0m\u001b[0m\n\u001b[0m\u001b[0;32m     18\u001b[0m         \u001b[1;32mreturn\u001b[0m \u001b[1;33m(\u001b[0m\u001b[1;33m[\u001b[0m\u001b[0ml\u001b[0m\u001b[1;33m[\u001b[0m\u001b[1;36m0\u001b[0m\u001b[1;33m]\u001b[0m\u001b[1;33m]\u001b[0m \u001b[1;33m+\u001b[0m \u001b[0ml1\u001b[0m\u001b[1;33m,\u001b[0m \u001b[1;33m[\u001b[0m\u001b[0ml\u001b[0m\u001b[1;33m[\u001b[0m\u001b[1;36m1\u001b[0m\u001b[1;33m]\u001b[0m\u001b[1;33m]\u001b[0m \u001b[1;33m+\u001b[0m \u001b[0ml2\u001b[0m\u001b[1;33m)\u001b[0m\u001b[1;33m\u001b[0m\u001b[1;33m\u001b[0m\u001b[0m\n\u001b[0;32m     19\u001b[0m \u001b[1;32mdef\u001b[0m \u001b[0mmerge\u001b[0m\u001b[1;33m(\u001b[0m\u001b[0ml1\u001b[0m\u001b[1;33m,\u001b[0m \u001b[0ml2\u001b[0m\u001b[1;33m,\u001b[0m \u001b[0mcomp\u001b[0m\u001b[1;33m=\u001b[0m\u001b[0mcompare\u001b[0m\u001b[1;33m)\u001b[0m\u001b[1;33m:\u001b[0m\u001b[1;33m\u001b[0m\u001b[1;33m\u001b[0m\u001b[0m\n",
      "... last 1 frames repeated, from the frame below ...\n",
      "\u001b[1;32m<ipython-input-20-5550aecc26b2>\u001b[0m in \u001b[0;36msplit\u001b[1;34m(l)\u001b[0m\n\u001b[0;32m     15\u001b[0m         \u001b[1;32mreturn\u001b[0m \u001b[1;33m(\u001b[0m\u001b[1;33m[\u001b[0m\u001b[0ml\u001b[0m\u001b[1;33m[\u001b[0m\u001b[1;36m0\u001b[0m\u001b[1;33m]\u001b[0m\u001b[1;33m]\u001b[0m\u001b[1;33m,\u001b[0m \u001b[1;33m[\u001b[0m\u001b[1;33m]\u001b[0m\u001b[1;33m)\u001b[0m\u001b[1;33m\u001b[0m\u001b[1;33m\u001b[0m\u001b[0m\n\u001b[0;32m     16\u001b[0m     \u001b[1;32melse\u001b[0m\u001b[1;33m:\u001b[0m\u001b[1;33m\u001b[0m\u001b[1;33m\u001b[0m\u001b[0m\n\u001b[1;32m---> 17\u001b[1;33m         \u001b[0ml1\u001b[0m\u001b[1;33m,\u001b[0m \u001b[0ml2\u001b[0m \u001b[1;33m=\u001b[0m \u001b[0msplit\u001b[0m\u001b[1;33m(\u001b[0m\u001b[0ml\u001b[0m\u001b[1;33m[\u001b[0m\u001b[1;36m2\u001b[0m\u001b[1;33m:\u001b[0m\u001b[1;33m]\u001b[0m\u001b[1;33m)\u001b[0m\u001b[1;33m\u001b[0m\u001b[1;33m\u001b[0m\u001b[0m\n\u001b[0m\u001b[0;32m     18\u001b[0m         \u001b[1;32mreturn\u001b[0m \u001b[1;33m(\u001b[0m\u001b[1;33m[\u001b[0m\u001b[0ml\u001b[0m\u001b[1;33m[\u001b[0m\u001b[1;36m0\u001b[0m\u001b[1;33m]\u001b[0m\u001b[1;33m]\u001b[0m \u001b[1;33m+\u001b[0m \u001b[0ml1\u001b[0m\u001b[1;33m,\u001b[0m \u001b[1;33m[\u001b[0m\u001b[0ml\u001b[0m\u001b[1;33m[\u001b[0m\u001b[1;36m1\u001b[0m\u001b[1;33m]\u001b[0m\u001b[1;33m]\u001b[0m \u001b[1;33m+\u001b[0m \u001b[0ml2\u001b[0m\u001b[1;33m)\u001b[0m\u001b[1;33m\u001b[0m\u001b[1;33m\u001b[0m\u001b[0m\n\u001b[0;32m     19\u001b[0m \u001b[1;32mdef\u001b[0m \u001b[0mmerge\u001b[0m\u001b[1;33m(\u001b[0m\u001b[0ml1\u001b[0m\u001b[1;33m,\u001b[0m \u001b[0ml2\u001b[0m\u001b[1;33m,\u001b[0m \u001b[0mcomp\u001b[0m\u001b[1;33m=\u001b[0m\u001b[0mcompare\u001b[0m\u001b[1;33m)\u001b[0m\u001b[1;33m:\u001b[0m\u001b[1;33m\u001b[0m\u001b[1;33m\u001b[0m\u001b[0m\n",
      "\u001b[1;31mRecursionError\u001b[0m: maximum recursion depth exceeded while calling a Python object"
     ]
    }
   ],
   "source": [
    "debut = time.time()\n",
    "tri_fusion(T)\n",
    "fin = time.time()\n",
    "print(fin - debut)"
   ]
  }
 ],
 "metadata": {
  "kernelspec": {
   "display_name": "Python 3",
   "language": "python",
   "name": "python3"
  },
  "language_info": {
   "codemirror_mode": {
    "name": "ipython",
    "version": 3
   },
   "file_extension": ".py",
   "mimetype": "text/x-python",
   "name": "python",
   "nbconvert_exporter": "python",
   "pygments_lexer": "ipython3",
   "version": "3.8.5"
  }
 },
 "nbformat": 4,
 "nbformat_minor": 4
}
