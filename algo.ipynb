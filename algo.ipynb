{
 "cells": [
  {
   "cell_type": "markdown",
   "metadata": {},
   "source": [
    "##### <center> MINISTERE DE L’ENSEIGNEMENT SUPERIEUR  ET DE LA RECHERCHE SCIENTIFIQUE <br/> UNIVERSITE DE SOUSSE </center>\n",
    "\n",
    "### <center>Institut Supérieur d’Informatique et de Technique de Communication </center>           <img src=\"isitcom.png\"> \n",
    "### <center>المعهد العالي للإعلامية و تقنيات الاتصال بحمام سوسة</center>\n",
    "\n",
    "## <center> Algorithme Avancée </center>\n",
    "\n",
    "# <center> <span style=\"color:blue\"> Mini projet </span></center>\n",
    "<hr>\n",
    "\n",
    "###  <center> Réalisé par : <br>    Ramla Khelifi 2DNI1 <center> <hr>\n",
    "\n",
    "#### <center> Année Universitaire  2020 -2021 <center>\n",
    "<hr>"
   ]
  },
  {
   "cell_type": "markdown",
   "metadata": {},
   "source": [
    " ## <p  style=\"color:#1E90FF\"> Code de case vide </p>"
   ]
  },
  {
   "cell_type": "code",
   "execution_count": 2,
   "metadata": {},
   "outputs": [],
   "source": [
    "def trouve_libre(L,n):\n",
    "    t=len(L)\n",
    "    libre=list(range(1,t+1))\n",
    "    for i in range (0,n):\n",
    "            if L[i] in libre:\n",
    "                libre.remove(L[i])\n",
    "            if L[i]+i-n in libre :\n",
    "                libre.remove(L[i]+i-n)\n",
    "            if L[i]+n-i in libre :\n",
    "                libre.remove(L[i]+n-i)\n",
    "    return libre\n"
   ]
  },
  {
   "cell_type": "markdown",
   "metadata": {},
   "source": [
    "## <p style=\"color:#1E90FF\" > code  de placer reine </p>"
   ]
  },
  {
   "cell_type": "code",
   "execution_count": 3,
   "metadata": {},
   "outputs": [],
   "source": [
    "def place_reine(L,n,ES):\n",
    "    if n==len(L):\n",
    "        ES.append(L.copy())\n",
    "    else:       \n",
    "        Plibre=trouve_libre(L,n)\n",
    "        for i in Plibre:\n",
    "            L[n]=i\n",
    "            place_reine(L,n+1,ES)\n",
    "        L[n]=0\n",
    "    return ES"
   ]
  },
  {
   "cell_type": "markdown",
   "metadata": {},
   "source": [
    "## <p style=\"color:#1E90FF\" > afficher le resultat</p>"
   ]
  },
  {
   "cell_type": "code",
   "execution_count": 4,
   "metadata": {},
   "outputs": [
    {
     "name": "stdout",
     "output_type": "stream",
     "text": [
      "taille =4\n",
      "2\n",
      "[[2, 4, 1, 3], [3, 1, 4, 2]]\n"
     ]
    }
   ],
   "source": [
    "te=int(input(\"taille =\"))\n",
    "ce=[0]*te\n",
    "\n",
    "Solutions=place_reine(ce,0,[])\n",
    "print(len(Solutions))\n",
    "print(Solutions)"
   ]
  }
 ],
 "metadata": {
  "kernelspec": {
   "display_name": "Python 3",
   "language": "python",
   "name": "python3"
  },
  "language_info": {
   "codemirror_mode": {
    "name": "ipython",
    "version": 3
   },
   "file_extension": ".py",
   "mimetype": "text/x-python",
   "name": "python",
   "nbconvert_exporter": "python",
   "pygments_lexer": "ipython3",
   "version": "3.8.3"
  }
 },
 "nbformat": 4,
 "nbformat_minor": 4
}
